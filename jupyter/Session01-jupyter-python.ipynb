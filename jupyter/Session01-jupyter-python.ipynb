{
 "cells": [
  {
   "cell_type": "markdown",
   "metadata": {
    "slideshow": {
     "slide_type": "slide"
    }
   },
   "source": [
    "# Short introduction to Notebooks and Python\n",
    "\n",
    "This tutorial aims to demonstrate Jupyter notebook and show you a little Python to solve the exercises.\n"
   ]
  },
  {
   "cell_type": "markdown",
   "metadata": {
    "collapsed": true,
    "slideshow": {
     "slide_type": "slide"
    }
   },
   "source": [
    "Notebook User Interface\n",
    "======\n",
    "This is a IPython Notebook cell. There are two (important for you) kinds of cells: *Mardown* and *Code*. You can change the cell type with the drop-down menu in the toolbar above.\n",
    "There are two different modes: *edit mode* and *command mode*. To enter command mode hit <kbd>Esc</kbd> , for edit mode hit <kbd>Enter</kbd>. If you are in command mode hit <kbd>B</kbd> to insert a new cell. To eveluate a cell hit <kbd>Ctrl</kbd>+<kbd>Enter</kbd>. An overview of all shortcuts can be found in Help -> Keybort Shortcuts.\n",
    "\n",
    "For more information go to: Help -> User Interface Tour"
   ]
  },
  {
   "cell_type": "markdown",
   "metadata": {},
   "source": [
    "This is a Markdown cell\n",
    "--------------------------\n",
    "You can format your text in an intuitive way. Hit Enter or double click to edit the cell.\n",
    "\n",
    "- example\n",
    "- bullet\n",
    "- points.\n",
    "\n",
    "You can write *italic text* or **bold text**\n",
    "\n",
    "or even latex formulars: $$ (x+y)^n = \\sum_{k=0}^{n}\\binom{n}{k} x^{n-k}y^{k} $$\n",
    "\n"
   ]
  },
  {
   "cell_type": "markdown",
   "metadata": {},
   "source": [
    "| Date        | what          |\n",
    "|-------------|---------------|\n",
    "| November 1  | Practice      |\n",
    "| November 2  | Lecture       |\n",
    "| November 7  | Practice      |\n"
   ]
  },
  {
   "cell_type": "markdown",
   "metadata": {
    "slideshow": {
     "slide_type": "slide"
    }
   },
   "source": [
    "# Python"
   ]
  },
  {
   "cell_type": "markdown",
   "metadata": {},
   "source": [
    "Python currently has a very active community, providing all kinds of support. You can find a lot of material\n",
    "on [python.org](https://www.python.org/), including a [Beginners Guide](https://wiki.python.org/moin/BeginnersGuide),\n",
    "a [Tutorial](https://docs.python.org/3/tutorial/index.html) (and a long [list of tutorials](https://wiki.python.org/moin/BeginnersGuide/Programmers)) - probably much more material than you will need in this lecture.\n",
    "\n",
    "For the computer vision class, **basic knowledge of Python is sufficient**. Knowing the topics covered in the rest of this notebook should be sufficient for the beginning."
   ]
  },
  {
   "cell_type": "markdown",
   "metadata": {
    "collapsed": true
   },
   "source": [
    "## Comments\n",
    "Comments in Python start with #."
   ]
  },
  {
   "cell_type": "code",
   "execution_count": null,
   "metadata": {},
   "outputs": [],
   "source": [
    "# This is a code cell containing just a comment"
   ]
  },
  {
   "cell_type": "markdown",
   "metadata": {},
   "source": [
    "## Types\n",
    "\n",
    "Python has some basic types:"
   ]
  },
  {
   "cell_type": "code",
   "execution_count": null,
   "metadata": {},
   "outputs": [],
   "source": [
    "1        # this is an integer\n",
    "1.0      # this is a float\n",
    "'this is a string' # or\n",
    "\"this is a string\"\n",
    "True     # this is a boolean\n",
    "None     # None is used to represent the absence of a value"
   ]
  },
  {
   "cell_type": "code",
   "execution_count": null,
   "metadata": {},
   "outputs": [],
   "source": [
    "type(None)"
   ]
  },
  {
   "cell_type": "code",
   "execution_count": null,
   "metadata": {},
   "outputs": [],
   "source": [
    "len(\"this is a string\")"
   ]
  },
  {
   "cell_type": "markdown",
   "metadata": {},
   "source": [
    "## Variables\n",
    "\n",
    "Variables are named pieces of memory. They can keep values. Variable names should be speaking, i.e. whole words, separated by underscore: "
   ]
  },
  {
   "cell_type": "code",
   "execution_count": null,
   "metadata": {},
   "outputs": [],
   "source": [
    "# Variables\n",
    "a = 1\n",
    "b = 1.1\n",
    "c = 'this is a string'\n",
    "d = True\n",
    "n = None\n",
    "\n",
    "long_name = 42\n",
    "\n",
    "print(a, b, c, d, n, long_name)"
   ]
  },
  {
   "cell_type": "code",
   "execution_count": null,
   "metadata": {},
   "outputs": [],
   "source": [
    "a=3"
   ]
  },
  {
   "cell_type": "code",
   "execution_count": null,
   "metadata": {},
   "outputs": [],
   "source": [
    "type(a)"
   ]
  },
  {
   "cell_type": "code",
   "execution_count": null,
   "metadata": {},
   "outputs": [],
   "source": [
    "a=5.0"
   ]
  },
  {
   "cell_type": "markdown",
   "metadata": {},
   "source": [
    "### Simple Artithmetic"
   ]
  },
  {
   "cell_type": "code",
   "execution_count": null,
   "metadata": {},
   "outputs": [],
   "source": [
    "print(1 + 1)\n",
    "print(2 * 3)\n",
    "print(7 // 2)\n",
    "print(2 / 6)\n",
    "print(2 ** 6)"
   ]
  },
  {
   "cell_type": "markdown",
   "metadata": {},
   "source": [
    "## Boolean Arithmetic"
   ]
  },
  {
   "cell_type": "code",
   "execution_count": null,
   "metadata": {},
   "outputs": [],
   "source": [
    "a = True\n",
    "b = False\n",
    "print( a and b )\n",
    "print( a or b )\n",
    "print( not b )"
   ]
  },
  {
   "cell_type": "code",
   "execution_count": null,
   "metadata": {},
   "outputs": [],
   "source": [
    "print( all([True, True, False]))\n",
    "print( any([True, True, False]))"
   ]
  },
  {
   "cell_type": "code",
   "execution_count": null,
   "metadata": {
    "slideshow": {
     "slide_type": "slide"
    }
   },
   "outputs": [],
   "source": [
    "# Code cells can contain interactive commands:\n",
    "# click to edit, Ctrl+Enter to execute\n",
    "a = input('First Number: ')\n",
    "b = input('Second Number: ')\n",
    "c = float(a) + float(b)\n",
    "print('Result:', c)"
   ]
  },
  {
   "cell_type": "markdown",
   "metadata": {
    "slideshow": {
     "slide_type": "slide"
    }
   },
   "source": [
    "Lists\n",
    "-----\n",
    "Lists are one of the most importent data structures in Python. You can store elements of different types in the same list. The first index is zero."
   ]
  },
  {
   "cell_type": "code",
   "execution_count": null,
   "metadata": {},
   "outputs": [],
   "source": [
    "L = ['a', 'b', 'c', 'd'] # create a list of four strings\n",
    "\n",
    "# Indexing\n",
    "L[0]    # access the first element of the list\n",
    "L[1]    # access the second element of the list\n",
    "L[-2]   # access second last element of the list\n",
    "L[1:]   # cut of the first element\n",
    "L[:2]   # cuts of everything after the second element\n",
    "L[1:-1] # cut of the first and the last element\n",
    "\n",
    "print(L[1:-1])"
   ]
  },
  {
   "cell_type": "code",
   "execution_count": null,
   "metadata": {},
   "outputs": [],
   "source": [
    "# assign a new value to index 3\n",
    "\n",
    "L[3] = 'other value' \n",
    "\n",
    "print(L)"
   ]
  },
  {
   "cell_type": "code",
   "execution_count": null,
   "metadata": {},
   "outputs": [],
   "source": [
    "# assign new values from index one to index 3\n",
    "\n",
    "L[1:3] = [12,13,14]\n",
    "\n",
    "print(L)"
   ]
  },
  {
   "cell_type": "code",
   "execution_count": null,
   "metadata": {},
   "outputs": [],
   "source": [
    "# delete index 3\n",
    "\n",
    "del L[3]\n",
    "\n",
    "print(L)"
   ]
  },
  {
   "cell_type": "code",
   "execution_count": null,
   "metadata": {},
   "outputs": [],
   "source": [
    "L.append('new element') # add an element to the end of the list\n",
    "L.extend([1,2,3]) # add the elements of one list to the elements of another list\n",
    "L.insert(2,'new value') # insert a value between index 2 and three\n",
    "\n",
    "print(L)"
   ]
  },
  {
   "cell_type": "code",
   "execution_count": null,
   "metadata": {},
   "outputs": [],
   "source": [
    "print(L.pop())\n",
    "print(L)"
   ]
  },
  {
   "cell_type": "code",
   "execution_count": null,
   "metadata": {},
   "outputs": [],
   "source": [
    "print(len(L))"
   ]
  },
  {
   "cell_type": "code",
   "execution_count": null,
   "metadata": {},
   "outputs": [],
   "source": [
    "R = list(range(0,10))\n",
    "R[0:4]\n",
    "print(R)\n"
   ]
  },
  {
   "cell_type": "markdown",
   "metadata": {},
   "source": [
    "### List comprehension\n",
    "\n",
    "Define lists similar to sets in math:\n",
    "$$L = \\{x^2 \\mid x \\in R\\}$$"
   ]
  },
  {
   "cell_type": "code",
   "execution_count": null,
   "metadata": {},
   "outputs": [],
   "source": [
    "L = [x**2 for x in R]\n",
    "\n",
    "print (L)"
   ]
  },
  {
   "cell_type": "code",
   "execution_count": null,
   "metadata": {},
   "outputs": [],
   "source": [
    "[1,2,3,2,5].count(4)"
   ]
  },
  {
   "cell_type": "markdown",
   "metadata": {},
   "source": [
    "### Tupels\n",
    "\n",
    "Tupels are fixed length, immutable entities"
   ]
  },
  {
   "cell_type": "code",
   "execution_count": null,
   "metadata": {},
   "outputs": [],
   "source": [
    "T = (1,2,3,'hello')\n",
    "print(T)\n",
    "S = T[0:2]"
   ]
  },
  {
   "cell_type": "code",
   "execution_count": null,
   "metadata": {},
   "outputs": [],
   "source": [
    "T = ('a','b','c')\n",
    "T"
   ]
  },
  {
   "cell_type": "code",
   "execution_count": null,
   "metadata": {},
   "outputs": [],
   "source": [
    "L = list(T)\n",
    "T = tuple(L)\n"
   ]
  },
  {
   "cell_type": "code",
   "execution_count": null,
   "metadata": {},
   "outputs": [],
   "source": [
    "a = 3\n",
    "T = (1,a,3)"
   ]
  },
  {
   "cell_type": "code",
   "execution_count": null,
   "metadata": {},
   "outputs": [],
   "source": [
    "a = 4\n",
    "T"
   ]
  },
  {
   "cell_type": "markdown",
   "metadata": {
    "slideshow": {
     "slide_type": "slide"
    }
   },
   "source": [
    "Dictionaries\n",
    "-------------\n",
    "Dictionaries store key value pairs."
   ]
  },
  {
   "cell_type": "code",
   "execution_count": null,
   "metadata": {},
   "outputs": [],
   "source": [
    "D = {'a' : 33} # create an empty dictionary\n",
    "\n",
    "D['hello'] = 'world' # assign value 'world' to key 'hello'\n",
    "D[42] = 999 # key and values can be numbers\n",
    "D['foo'] = [1,2,3] # values can also be lists or any other objects\n",
    "\n",
    "print(D)"
   ]
  },
  {
   "cell_type": "code",
   "execution_count": null,
   "metadata": {},
   "outputs": [],
   "source": [
    "# access is pretty easy\n",
    "\n",
    "v = D['hello']\n",
    "\n",
    "print(v)"
   ]
  },
  {
   "cell_type": "code",
   "execution_count": null,
   "metadata": {},
   "outputs": [],
   "source": [
    "# deletion of a key-value pair\n",
    "\n",
    "del D['hello']\n",
    "\n",
    "print(D)"
   ]
  },
  {
   "cell_type": "code",
   "execution_count": null,
   "metadata": {},
   "outputs": [],
   "source": [
    "D['foo'] = 23\n",
    "\n",
    "print(D)"
   ]
  },
  {
   "cell_type": "markdown",
   "metadata": {
    "slideshow": {
     "slide_type": "slide"
    }
   },
   "source": [
    "## Control Structures\n"
   ]
  },
  {
   "cell_type": "code",
   "execution_count": null,
   "metadata": {},
   "outputs": [],
   "source": [
    "a = 1\n",
    "b = 2\n",
    "c = 3\n",
    "\n",
    "if a == b :\n",
    "    print('equal to')\n",
    "    print('hello')\n",
    "elif a < b:\n",
    "    print('smaller than')\n",
    "else :\n",
    "    print('bigger than')\n",
    "\n",
    "if a < b < c :\n",
    "    print('between')\n",
    "\n",
    "if a in [1,2,3] :\n",
    "    print('in inside')"
   ]
  },
  {
   "cell_type": "markdown",
   "metadata": {},
   "source": [
    "### Loops\n"
   ]
  },
  {
   "cell_type": "code",
   "execution_count": null,
   "metadata": {},
   "outputs": [],
   "source": [
    "# A for loop takes a list and iterates over its elements\n",
    "L = ['a', 'b', 'ccc']\n",
    "\n",
    "for element in L:\n",
    "    print(element)\n",
    "    print(len(element))"
   ]
  },
  {
   "cell_type": "code",
   "execution_count": null,
   "metadata": {},
   "outputs": [],
   "source": [
    "# for loops are often used together with range\n",
    "print(D)\n",
    "for value, key in enumerate(D):\n",
    "    print(value)"
   ]
  },
  {
   "cell_type": "code",
   "execution_count": null,
   "metadata": {},
   "outputs": [],
   "source": [
    "# while loop\n",
    "\n",
    "a = 1\n",
    "while a < 4 :\n",
    "    print(a)\n",
    "    a+=1"
   ]
  },
  {
   "cell_type": "markdown",
   "metadata": {},
   "source": [
    "## Functions\n",
    "\n",
    "- A function is a block of code that is used to perform a single action.\n",
    "- Functions provide better modularity and support reuse."
   ]
  },
  {
   "cell_type": "code",
   "execution_count": null,
   "metadata": {},
   "outputs": [],
   "source": [
    "def hello(arg):\n",
    "    \"Simple Hello function\"\n",
    "    print(\"Hello {}\".format(arg))\n",
    "\n",
    "hello('Python')\n",
    "hello(3)\n",
    "hello?"
   ]
  },
  {
   "cell_type": "code",
   "execution_count": null,
   "metadata": {},
   "outputs": [],
   "source": [
    "def plus(a,b):\n",
    "    \"\"\"\n",
    "    Add the two arguments a and b.\n",
    "    \"\"\"\n",
    "    r = a + b\n",
    "    return r"
   ]
  },
  {
   "cell_type": "code",
   "execution_count": null,
   "metadata": {},
   "outputs": [],
   "source": [
    "result = plus(2,3)\n",
    "\n",
    "print(result)"
   ]
  },
  {
   "cell_type": "markdown",
   "metadata": {},
   "source": [
    "## Some basic Object Oriented Programming (OOP)\n",
    "\n",
    "* key concepts: *objects* and *classes*\n",
    "* A class defines a data type, providing attribute values (fields) and methods (functions)"
   ]
  },
  {
   "cell_type": "code",
   "execution_count": null,
   "metadata": {},
   "outputs": [],
   "source": [
    "class Cat:\n",
    "    '''A class representing a cat'''\n",
    "\n",
    "# instantiate two Cats:\n",
    "missy = Cat()\n",
    "lucy = Cat()"
   ]
  },
  {
   "cell_type": "markdown",
   "metadata": {},
   "source": [
    "### Attributes\n",
    "\n",
    "A class can be used bundle attributes for each instance (similar to a dictionary)."
   ]
  },
  {
   "cell_type": "code",
   "execution_count": null,
   "metadata": {},
   "outputs": [],
   "source": [
    "class Cat:\n",
    "    '''A class representing a cat'''\n",
    "\n",
    "# instantiate two Cats:\n",
    "missy = Cat()\n",
    "missy.name = 'Missy'\n",
    "missy.color = 'white'\n",
    "\n",
    "lucy = Cat()\n",
    "lucy.name = 'Lucy'\n",
    "lucy.color = 'black'\n",
    "\n",
    "for cat in missy, lucy:\n",
    "    print(cat.name)"
   ]
  },
  {
   "cell_type": "markdown",
   "metadata": {},
   "source": [
    "### Methods\n",
    "\n",
    "Methods are\n",
    "* functions that are defined insides classes\n",
    "* intended to operate on instances of that class\n",
    "* have a special parameter, named `self`, refering to the instance of the class to be applied to"
   ]
  },
  {
   "cell_type": "code",
   "execution_count": null,
   "metadata": {},
   "outputs": [],
   "source": [
    "class Cat:\n",
    "    '''A class representing a cat'''\n",
    "    \n",
    "    def introduce(self):\n",
    "        print(\"Hi, I am {}\".format(self.name))\n",
    "        \n",
    "missy = Cat()\n",
    "missy.name = 'Missy'\n",
    "\n",
    "lucy = Cat()\n",
    "lucy.name = 'Lucy'\n",
    "\n",
    "for cat in missy, lucy:\n",
    "    cat.introduce()"
   ]
  },
  {
   "cell_type": "code",
   "execution_count": null,
   "metadata": {},
   "outputs": [],
   "source": [
    "class Cat:\n",
    "    '''A class representing a cat'''\n",
    "    \n",
    "    def hello(self, other):\n",
    "        print(\"Hello {}, I am {}\".format(other.name,self.name))\n",
    "        \n",
    "missy = Cat()\n",
    "missy.name = 'Missy'\n",
    "\n",
    "lucy = Cat()\n",
    "lucy.name = 'Lucy'\n",
    "\n",
    "missy.hello(lucy)"
   ]
  },
  {
   "cell_type": "markdown",
   "metadata": {},
   "source": [
    "### Constructors\n",
    "\n",
    "* constructors are special methods\n",
    "* are automatically invoked when a new object is created\n",
    "* intended to initialize the new instance"
   ]
  },
  {
   "cell_type": "code",
   "execution_count": null,
   "metadata": {},
   "outputs": [],
   "source": [
    "class Cat:\n",
    "    '''A class representing a cat'''\n",
    "    \n",
    "    def __init__(self, name):\n",
    "        self.name = name\n",
    "\n",
    "    def introduce(self):\n",
    "        print(\"Hi, I am {}\".format(self.name))\n",
    "\n",
    "missy = Cat('Missy')\n",
    "lucy = Cat('Lucy')\n",
    "\n",
    "missy.introduce()\n",
    "lucy.introduce()"
   ]
  },
  {
   "cell_type": "markdown",
   "metadata": {},
   "source": [
    "### The methods `__repr__` and `__str__`\n",
    "\n",
    "Both function construct a string from an object:\n",
    "* the goal of `__repr__` is to be unambiguous\n",
    "* the goal of `__str__` is to be readable"
   ]
  },
  {
   "cell_type": "code",
   "execution_count": null,
   "metadata": {},
   "outputs": [],
   "source": [
    "class Cat:\n",
    "    '''A class representing a cat'''\n",
    "\n",
    "    def __init__(self, name):\n",
    "        self.name = name\n",
    "        \n",
    "missy = Cat('Missy')\n",
    "print(missy)"
   ]
  },
  {
   "cell_type": "code",
   "execution_count": null,
   "metadata": {},
   "outputs": [],
   "source": [
    "class Cat:\n",
    "    '''A class representing a cat'''\n",
    "    \n",
    "    def __init__(self, name):\n",
    "        self.name = name\n",
    "        \n",
    "    def __repr__(self):\n",
    "        return \"Cat({})\".format(self.name)\n",
    "    \n",
    "    def __str__(self):\n",
    "        return \"A Cat called {}\".format(self.name)\n",
    "    \n",
    "missy = Cat('Missy')\n",
    "print(missy)\n",
    "print([missy])"
   ]
  },
  {
   "cell_type": "markdown",
   "metadata": {},
   "source": [
    "### Inheritance\n",
    "\n",
    "Classes can be derived from other classes\n",
    "* the derived class is called *subclass*, the class derived from is the *base class* or *superclass* \n",
    "* these subclasses inherit the methods from the superclass\n",
    "* they can add new methods\n",
    "* the can *override* (redefine) methods from the superclass"
   ]
  },
  {
   "cell_type": "code",
   "execution_count": null,
   "metadata": {},
   "outputs": [],
   "source": [
    "class Animal:\n",
    "    '''A class to represent animals'''\n",
    "\n",
    "    def __init__(self, name):\n",
    "        self.name = name\n",
    "        \n",
    "    def introduce(self):\n",
    "        print(\"Hi, I am {}\".format(self.name))\n",
    "\n",
    "\n",
    "class Dog(Animal):\n",
    "    '''A class to represent dogs'''\n",
    "\n",
    "    def bark(self):\n",
    "        print(\"arf-arf\")\n",
    "\n",
    "\n",
    "class Cat(Animal):\n",
    "    '''A class to represent cats'''\n",
    "\n",
    "    def introduce(self):\n",
    "        print(\"Meow, I am {}\".format(self.name))\n",
    "\n",
    "\n",
    "fido = Dog('Fido')\n",
    "fido.introduce()\n",
    "fido.bark()\n",
    "\n",
    "missy = Cat('Missy')\n",
    "missy.introduce()"
   ]
  }
 ],
 "metadata": {
  "kernelspec": {
   "display_name": "Python 3",
   "language": "python",
   "name": "python3"
  },
  "language_info": {
   "codemirror_mode": {
    "name": "ipython",
    "version": 3
   },
   "file_extension": ".py",
   "mimetype": "text/x-python",
   "name": "python",
   "nbconvert_exporter": "python",
   "pygments_lexer": "ipython3",
   "version": "3.6.3"
  },
  "toc": {
   "nav_menu": {},
   "number_sections": true,
   "sideBar": true,
   "skip_h1_title": false,
   "toc_cell": false,
   "toc_position": {},
   "toc_section_display": "block",
   "toc_window_display": false
  },
  "varInspector": {
   "cols": {
    "lenName": 16,
    "lenType": 16,
    "lenVar": 40
   },
   "kernels_config": {
    "python": {
     "delete_cmd_postfix": "",
     "delete_cmd_prefix": "del ",
     "library": "var_list.py",
     "varRefreshCmd": "print(var_dic_list())"
    },
    "r": {
     "delete_cmd_postfix": ") ",
     "delete_cmd_prefix": "rm(",
     "library": "var_list.r",
     "varRefreshCmd": "cat(var_dic_list()) "
    }
   },
   "types_to_exclude": [
    "module",
    "function",
    "builtin_function_or_method",
    "instance",
    "_Feature"
   ],
   "window_display": false
  }
 },
 "nbformat": 4,
 "nbformat_minor": 2
}
