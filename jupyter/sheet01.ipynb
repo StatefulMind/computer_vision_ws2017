{
 "cells": [
  {
   "cell_type": "markdown",
   "metadata": {
    "deletable": false,
    "editable": false,
    "nbgrader": {
     "checksum": "462146395335e36162afad42fcd26a17",
     "grade": false,
     "grade_id": "h00",
     "locked": true,
     "schema_version": 1,
     "solution": false
    }
   },
   "source": [
    "Osnabrück University - Computer Vision (Winter Term 2017/18) - Prof. Dr.-Ing. G. Heidemann, Ulf Krumnack"
   ]
  },
  {
   "cell_type": "markdown",
   "metadata": {
    "deletable": false,
    "editable": false,
    "nbgrader": {
     "checksum": "ee0685d745192358300cd25c4efc45a5",
     "grade": false,
     "grade_id": "h01",
     "locked": true,
     "schema_version": 1,
     "solution": false
    }
   },
   "source": [
    "# Exercise Sheet 01: Basic Operations - Convolution"
   ]
  },
  {
   "cell_type": "markdown",
   "metadata": {
    "deletable": false,
    "editable": false,
    "nbgrader": {
     "checksum": "72fb75d135f1223311c95bb7ef246c2f",
     "grade": false,
     "grade_id": "h02",
     "locked": true,
     "schema_version": 1,
     "solution": false
    }
   },
   "source": [
    "## Introduction\n",
    "\n",
    "This is a part of the first exercise sheet, you will find the rest in the `*.ipynb` file. The homework sheets will usually be available on Tuesdays and are supposed to be solved in groups of three. They have to be handed in before Monday morning of the following week. The exercises are then presented to your tutor in a small feedback session. To acquire the admission for the final exam, you will have to pass $N-2$ of the weekly provided exercise sheets.\n",
    "\n",
    "Sign up for a group on Stud.IP (See `Participants` -> `Functions/Groups`). The times mentioned there are the times for the feedback session of your group. If none of them fits, send any of the tutors an e-mail so we can try to arrange something. \n",
    "\n",
    "Your group will have a group folder in Stud.IP under `Documents`. Upload your solutions there to hand them in.\n",
    "\n",
    "All exercise sheets will use [Jupyter Notebooks](http://jupyter-notebook.readthedocs.org/en/latest/notebook.html). To be able to run these on your system, you will need to install Python and a few packages. We suggest you to use the latest version of Python 3. In case you are not familiar with it, follow the directives below ([Assignment -1a](#a%29-Install-Python)) to get it up and running. [Assignment -1b](#b%29-Run-Jupyter-Notebooks) on this sheet will provide details on how to run the notebooks with Jupyter.\n",
    "\n",
    "This week's sheet should be solved and handed in before the end of **Sunday, November 12, 2017**. If you need help (and Google and other resources were not enough), feel free to contact your groups' designated tutor or whomever of us you run into first. Please upload your results to your group's Stud.IP folder.\n",
    "\n",
    "We will offer an open help session if you need help with installing and getting things to run: On **Tuesday, November 7, 2017 between 9:00 and 13:00** you will find some tutors in **92/E06** who try to help you."
   ]
  },
  {
   "cell_type": "markdown",
   "metadata": {
    "deletable": false,
    "editable": false,
    "nbgrader": {
     "checksum": "8acb506845cb20ea47872f8e1b5eafb3",
     "grade": false,
     "grade_id": "ex-setup",
     "locked": true,
     "schema_version": 1,
     "solution": false
    }
   },
   "source": [
    "## Assignment 0: Setup your homework environment [0 Points]\n",
    "\n",
    "Thie exercise gives you no points, but it is required to do the other exercises. If you have problems, do not hesitate to contact us.\n",
    "\n",
    "### a) Install Conda\n",
    "\n",
    "To be able to run Jupyter Notebooks you will need Python. Follow this exercise to get everything up and running.\n",
    "\n",
    "We recommend to use Anaconda:\n",
    "* Download and install Anaconda from https://www.continuum.io/downloads that contains all important Python packages.\n",
    "* If you have limited diskspace install Miniconda https://conda.io/miniconda.html instead, which contains only conda and Python.\n",
    "\n",
    "Follow the installation instructions on the web site.\n",
    "\n",
    "### b) Setup the `cv` environment\n",
    "\n",
    "Download `cv.yml` from Stud.IP. Then in a terminal navigate to the directory where you saved `cv.yml` and run\n",
    "\n",
    "```sh\n",
    "conda env create -f cv.yml \n",
    "```\n",
    "\n",
    "### c) Activate the environment \n",
    "\n",
    "Always activate the enviornment when you work on the homework. \n",
    "\n",
    "Linux/Mac OS:\n",
    "\n",
    "```sh\n",
    "source activate cv\n",
    "```\n",
    "    \n",
    "For Windows:\n",
    "```sh\n",
    "activate cv\n",
    "```"
   ]
  },
  {
   "cell_type": "markdown",
   "metadata": {
    "deletable": false,
    "editable": false,
    "nbgrader": {
     "checksum": "ccbb9d282f8a4a3a353765e960eaa8a9",
     "grade": false,
     "grade_id": "ex-setup2",
     "locked": true,
     "schema_version": 1,
     "solution": false
    }
   },
   "source": [
    "### b) Run Jupyter Notebooks\n",
    "\n",
    "After you installed Python and Jupyter verify you are able to run the notebook server by opening your command line, navigate to the directory where you downloaded the `sheet01.ipynb` to, e.g. `~/university/CV2016-17` or `C:\\Users\\Documents\\University\\CV2016-17` and run jupyter in that directory.\n",
    "\n",
    "```sh\n",
    "cd ~/university/CV2016-17\n",
    "jupyter notebook\n",
    "```\n",
    "\n",
    "Usually a browser window should open up. If not, open your favorite webbrowser and navigate to [localhost:8888/tree](localhost:8888/tree).\n",
    "\n",
    "You will be presented with a list of files, choose `sheet01.ipynb`: You are good to go now and can start working on your homework right away!"
   ]
  },
  {
   "cell_type": "markdown",
   "metadata": {
    "deletable": false,
    "editable": false,
    "nbgrader": {
     "checksum": "361ca95937fcb103fba2d1c8d995e455",
     "grade": false,
     "grade_id": "ex-setup3",
     "locked": true,
     "schema_version": 1,
     "solution": false
    }
   },
   "source": [
    "### c) Check your installation\n",
    "Check that your installation succeeded and all required packages are available by executing the following cell (type <kbd>Ctrl</kbd>+<kbd>&#x23ce;</kbd>, on German keyboards <kbd>Strg</kbd>+<kbd>&#x23ce;</kbd>, or press the \"run cell\"-button at the toolbar above):"
   ]
  },
  {
   "cell_type": "code",
   "execution_count": null,
   "metadata": {},
   "outputs": [],
   "source": [
    "import importlib\n",
    "assert importlib.util.find_spec('numpy') is not None , 'numpy not found'\n",
    "assert importlib.util.find_spec('matplotlib') is not None, 'matplotlib not found'\n",
    "assert importlib.util.find_spec('scipy') is not None , 'scipy not found'"
   ]
  },
  {
   "cell_type": "markdown",
   "metadata": {
    "collapsed": true,
    "deletable": false,
    "editable": false,
    "nbgrader": {
     "checksum": "40c7ef44db560a075f326360135a110f",
     "grade": false,
     "grade_id": "ex-setup-remarks",
     "locked": true,
     "schema_version": 1,
     "solution": false
    }
   },
   "source": [
    "### Remarks:\n",
    "\n",
    "* If you experience any troubles, remember to step by at the help session on **Tuesday, November 7, 2017 between 9:00 and 13:00** in room **92/E06** use the Stud.IP forum or send us an e-mail - we are always happy to help.\n",
    "* In case you don't manage to install the required software on your computer, we can provide an installation that you can use in the CIP pool of the IKW. Contact the tutors.\n",
    "* If you do not want to use Python to do the exercises, but prefer another programming language, you may ask the tutors if they are willing to support it. However, the practice sessions will focus on Python and will probably not cover other languages."
   ]
  },
  {
   "cell_type": "markdown",
   "metadata": {
    "deletable": false,
    "editable": false,
    "nbgrader": {
     "checksum": "963490a52ec335486114f07426d80789",
     "grade": false,
     "grade_id": "conv-theory",
     "locked": true,
     "schema_version": 1,
     "solution": false
    }
   },
   "source": [
    "## Assignment 1: Twodimensional Convolution [8 Points]\n",
    "\n",
    "This exercise is purely theoretical and does not require implementation."
   ]
  },
  {
   "cell_type": "markdown",
   "metadata": {
    "deletable": false,
    "editable": false,
    "nbgrader": {
     "checksum": "beb7b42e40bc3fe467f855f91c260b1a",
     "grade": false,
     "grade_id": "conv-theory-q1",
     "locked": true,
     "schema_version": 1,
     "solution": false
    }
   },
   "source": [
    "### a) Definition\n",
    "\n",
    "Describe in your own words how convolution works."
   ]
  },
  {
   "cell_type": "markdown",
   "metadata": {
    "collapsed": true,
    "deletable": false,
    "nbgrader": {
     "checksum": "fc7db21fd0a445c1915f630c5cf3d48b",
     "grade": true,
     "grade_id": "conv-theory-a1",
     "locked": false,
     "points": 2,
     "schema_version": 1,
     "solution": true
    },
    "solution": true
   },
   "source": [
    "YOUR ANSWER HERE"
   ]
  },
  {
   "cell_type": "markdown",
   "metadata": {
    "deletable": false,
    "editable": false,
    "nbgrader": {
     "checksum": "785d62bb0630fd558d898cfa75bc326e",
     "grade": false,
     "grade_id": "conv-theory-q2",
     "locked": true,
     "schema_version": 1,
     "solution": false
    }
   },
   "source": [
    "### b) Properties\n",
    "Is convolution linear or non-linear? Is it homogenous or inhomogenous? Proof your answers."
   ]
  },
  {
   "cell_type": "markdown",
   "metadata": {
    "collapsed": true,
    "deletable": false,
    "nbgrader": {
     "checksum": "97f9914348b57dcf233aea9425d13911",
     "grade": true,
     "grade_id": "conv-theory-a2",
     "locked": false,
     "points": 2,
     "schema_version": 1,
     "solution": true
    },
    "solution": true
   },
   "source": [
    "YOUR ANSWER HERE"
   ]
  },
  {
   "cell_type": "markdown",
   "metadata": {
    "deletable": false,
    "editable": false,
    "nbgrader": {
     "checksum": "8065810ff49ce5f5de648fec49ba4f5e",
     "grade": false,
     "grade_id": "conv-theory-q3",
     "locked": true,
     "schema_version": 1,
     "solution": false
    }
   },
   "source": [
    "### c) Complexity\n",
    "\n",
    "Assume an image $g$ of size $M\\times N$ and a kernel $k$ of size $(2m+1)\\times(2n+1)$. How many operations (additions and multiplications) are required to compute a convoluted image $g\\ast k$ (of the same size as $g$)?"
   ]
  },
  {
   "cell_type": "markdown",
   "metadata": {
    "collapsed": true,
    "deletable": false,
    "nbgrader": {
     "checksum": "4c6e7adab92c341780c045e00023fbae",
     "grade": true,
     "grade_id": "conv-theory-a3",
     "locked": false,
     "points": 2,
     "schema_version": 1,
     "solution": true
    },
    "solution": true
   },
   "source": [
    "YOUR ANSWER HERE"
   ]
  },
  {
   "cell_type": "markdown",
   "metadata": {
    "deletable": false,
    "editable": false,
    "nbgrader": {
     "checksum": "c5f1887f6414ca49e4fbcb40a7b8d24c",
     "grade": false,
     "grade_id": "conv-theory-q4",
     "locked": true,
     "schema_version": 1,
     "solution": false
    }
   },
   "source": [
    "### d) Separability\n",
    "\n",
    "What is a separable kernel? Describe, how it can be applied more efficiently. Compute the number of operations for getting $g\\ast k$ (as in (c)) and compare the results."
   ]
  },
  {
   "cell_type": "markdown",
   "metadata": {
    "collapsed": true,
    "deletable": false,
    "nbgrader": {
     "checksum": "015628beb7042ab70148278810a13c95",
     "grade": true,
     "grade_id": "conv-theory-a4",
     "locked": false,
     "points": 2,
     "schema_version": 1,
     "solution": true
    },
    "solution": true
   },
   "source": [
    "YOUR ANSWER HERE"
   ]
  },
  {
   "cell_type": "markdown",
   "metadata": {
    "deletable": false,
    "editable": false,
    "nbgrader": {
     "checksum": "294fb496fce54f320b10ab07b13f82f7",
     "grade": false,
     "grade_id": "conv-application",
     "locked": true,
     "schema_version": 1,
     "solution": false
    }
   },
   "source": [
    "## Assignment 2: Applying Convolution [4 Points]\n",
    "\n",
    "In this exercise you will apply convolution with different kernels. You may use the function `scipy.ndimage.filters.convolve` to solve this task. Check the documentation to learn how to use this function. \n",
    "Then realize the following filters, describe their effect and possible applications."
   ]
  },
  {
   "cell_type": "markdown",
   "metadata": {
    "deletable": false,
    "editable": false,
    "nbgrader": {
     "checksum": "8a25c0fb618862b455e580b74a523105",
     "grade": false,
     "grade_id": "conv-application-q1",
     "locked": true,
     "schema_version": 1,
     "solution": false
    }
   },
   "source": [
    "### a) Box filter"
   ]
  },
  {
   "cell_type": "code",
   "execution_count": null,
   "metadata": {
    "deletable": false,
    "nbgrader": {
     "checksum": "0f3dd21587a281ca6de1280ef0b84ab3",
     "grade": true,
     "grade_id": "conv-application-a1",
     "locked": false,
     "points": 1,
     "schema_version": 1,
     "solution": true
    }
   },
   "outputs": [],
   "source": [
    "import matplotlib.pyplot as plt\n",
    "import numpy as np\n",
    "from skimage import data\n",
    "\n",
    "# Load an image\n",
    "#image = misc.imread('some_file.png', mode = 'F')\n",
    "image = data.coins().astype(np.float32)\n",
    "\n",
    "# YOUR CODE HERE\n",
    "filtered_image = image # replace this by your solution\n",
    "\n",
    "plt.figure()\n",
    "plt.imshow(filtered_image, cmap = plt.get_cmap('gray'))\n",
    "plt.axis('off')\n",
    "plt.show()"
   ]
  },
  {
   "cell_type": "markdown",
   "metadata": {
    "deletable": false,
    "editable": false,
    "nbgrader": {
     "checksum": "a4ba96b41df47da693821157ca70efd5",
     "grade": false,
     "grade_id": "conv-application-q2",
     "locked": true,
     "schema_version": 1,
     "solution": false
    }
   },
   "source": [
    "### b) Gaussian filter\n",
    "\n",
    "You may try different filter sizes."
   ]
  },
  {
   "cell_type": "code",
   "execution_count": null,
   "metadata": {
    "deletable": false,
    "nbgrader": {
     "checksum": "d889bf5c309d215475d203c5ecb72b2c",
     "grade": true,
     "grade_id": "conv-application-a2",
     "locked": false,
     "points": 1,
     "schema_version": 1,
     "solution": true
    }
   },
   "outputs": [],
   "source": [
    "import matplotlib.pyplot as plt\n",
    "import numpy as np\n",
    "from skimage import data\n",
    "\n",
    "# Load an image\n",
    "#image = misc.imread('some_file.png', mode = 'F')\n",
    "image = data.coins().astype(np.float32)\n",
    "\n",
    "# YOUR CODE HERE\n",
    "filtered_image = image # replace this by your solution\n",
    "\n",
    "plt.figure()\n",
    "plt.imshow(filtered_image, cmap = plt.get_cmap('gray'))\n",
    "plt.axis('off')\n",
    "plt.show()"
   ]
  },
  {
   "cell_type": "markdown",
   "metadata": {
    "deletable": false,
    "editable": false,
    "nbgrader": {
     "checksum": "38667765cad016dd2a187f672509dbdc",
     "grade": false,
     "grade_id": "conv-application-q3",
     "locked": true,
     "schema_version": 1,
     "solution": false
    }
   },
   "source": [
    "### c) Sobel filter\n",
    "\n",
    "Try horizontal, vertical, and diagonal sobel filters."
   ]
  },
  {
   "cell_type": "code",
   "execution_count": null,
   "metadata": {
    "deletable": false,
    "nbgrader": {
     "checksum": "09da3b3f7ca5b567b79e58580099fc60",
     "grade": true,
     "grade_id": "conv-application-a3",
     "locked": false,
     "points": 1,
     "schema_version": 1,
     "solution": true
    }
   },
   "outputs": [],
   "source": [
    "import matplotlib.pyplot as plt\n",
    "import numpy as np\n",
    "from skimage import data\n",
    "\n",
    "# Load an image\n",
    "#image = misc.imread('some_file.png', mode = 'F')\n",
    "image = data.coins().astype(np.float32)\n",
    "\n",
    "# YOUR CODE HERE\n",
    "filtered_image = image # replace this by your solution\n",
    "\n",
    "plt.figure()\n",
    "plt.imshow(filtered_image, cmap = plt.get_cmap('gray'))\n",
    "plt.axis('off')\n",
    "plt.show()"
   ]
  },
  {
   "cell_type": "markdown",
   "metadata": {
    "deletable": false,
    "editable": false,
    "nbgrader": {
     "checksum": "c4b930708ca61a3ea75ba74a77e95dc6",
     "grade": false,
     "grade_id": "conv-application-q4",
     "locked": true,
     "schema_version": 1,
     "solution": false
    }
   },
   "source": [
    "### d) Laplace operator"
   ]
  },
  {
   "cell_type": "code",
   "execution_count": null,
   "metadata": {
    "deletable": false,
    "nbgrader": {
     "checksum": "63a5bfc3acf96cb85d2e87f112a6ec50",
     "grade": true,
     "grade_id": "conv-application-a4",
     "locked": false,
     "points": 1,
     "schema_version": 1,
     "solution": true
    }
   },
   "outputs": [],
   "source": [
    "import matplotlib.pyplot as plt\n",
    "import numpy as np\n",
    "from skimage import data\n",
    "\n",
    "# Load an image\n",
    "#image = misc.imread('some_file.png', mode = 'F')\n",
    "image = data.coins().astype(np.float32)\n",
    "\n",
    "# YOUR CODE HERE\n",
    "filtered_image = image # replace this by your solution\n",
    "\n",
    "plt.figure()\n",
    "plt.imshow(filtered_image, cmap = plt.get_cmap('gray'))\n",
    "plt.axis('off')\n",
    "plt.show()"
   ]
  },
  {
   "cell_type": "markdown",
   "metadata": {
    "deletable": false,
    "editable": false,
    "nbgrader": {
     "checksum": "e0f2a9fcc68bf726b2cb6896e2870261",
     "grade": false,
     "grade_id": "conv-implementaion",
     "locked": true,
     "schema_version": 1,
     "solution": false
    }
   },
   "source": [
    "## Assignment 3: Implementing Convolution [8 Points]\n",
    "\n",
    "Now implement your own 2-dimensional convolution function. The function should take an image and a kernel a argument and return an image of the same size, containing the result of convolving the image with the kernel.\n",
    "\n",
    "You may notice a problem at the boundaries of the image. Describe the problem and possible solutions. Implement at least one of them.\n",
    "\n",
    "Then apply your function with different kernels. Compare the results with [Assignment 2](#Assignment-2:-Applying-Convolution-[4-Points])."
   ]
  },
  {
   "cell_type": "code",
   "execution_count": null,
   "metadata": {
    "deletable": false,
    "nbgrader": {
     "checksum": "6a0641f0ac8cd0afab59463d8d4a6953",
     "grade": true,
     "grade_id": "conv-implementation-a",
     "locked": false,
     "points": 8,
     "schema_version": 1,
     "solution": true
    }
   },
   "outputs": [],
   "source": [
    "import matplotlib.pyplot as plt\n",
    "from scipy import misc\n",
    "import numpy as np\n",
    "from skimage import data\n",
    "\n",
    "def my_convolve2d(img, kern):\n",
    "    \"\"\"Convolve an image with a kernel.\n",
    "\n",
    "    img -- the image, provided as a two-dimensional array\n",
    "    kern -- the kernel, also a two-dimensional array\n",
    "    \"\"\"\n",
    "    \n",
    "    # store the image size for easier access\n",
    "    M,N = img.shape\n",
    "    # store the kernel size\n",
    "    m,n = kern.shape\n",
    "    # and also the half kernel size\n",
    "    mh, nh = (m//2, n//2)\n",
    "    \n",
    "    # Initialize the result matrix\n",
    "    result = np.zeros((M,N))\n",
    "    \n",
    "    # Compute the convolution\n",
    "    # YOUR CODE HERE\n",
    "\n",
    "    return result\n",
    "\n",
    "# Apply your function to an image:\n",
    "# Try different filters, compare the results with Assignment 2\n",
    "\n",
    "# Load the image\n",
    "image = data.coins().astype(np.float32)\n",
    "\n",
    "box_3 = 1/9 * np.asarray([[1,1,1],[1,1,1],[1,1,1]])\n",
    "filtered_image = my_convolve2d(image,box_3)\n",
    "\n",
    "plt.figure()\n",
    "plt.imshow(filtered_image, cmap = plt.get_cmap('gray'))\n",
    "plt.show()"
   ]
  }
 ],
 "metadata": {
  "anaconda-cloud": {},
  "kernelspec": {
   "display_name": "Python 3",
   "language": "python",
   "name": "python3"
  },
  "language_info": {
   "codemirror_mode": {
    "name": "ipython",
    "version": 3
   },
   "file_extension": ".py",
   "mimetype": "text/x-python",
   "name": "python",
   "nbconvert_exporter": "python",
   "pygments_lexer": "ipython3",
   "version": "3.6.3"
  },
  "toc": {
   "nav_menu": {},
   "number_sections": false,
   "sideBar": true,
   "skip_h1_title": false,
   "toc_cell": false,
   "toc_position": {},
   "toc_section_display": "block",
   "toc_window_display": true
  },
  "varInspector": {
   "cols": {
    "lenName": 16,
    "lenType": 16,
    "lenVar": 40
   },
   "kernels_config": {
    "python": {
     "delete_cmd_postfix": "",
     "delete_cmd_prefix": "del ",
     "library": "var_list.py",
     "varRefreshCmd": "print(var_dic_list())"
    },
    "r": {
     "delete_cmd_postfix": ") ",
     "delete_cmd_prefix": "rm(",
     "library": "var_list.r",
     "varRefreshCmd": "cat(var_dic_list()) "
    }
   },
   "types_to_exclude": [
    "module",
    "function",
    "builtin_function_or_method",
    "instance",
    "_Feature"
   ],
   "window_display": false
  }
 },
 "nbformat": 4,
 "nbformat_minor": 1
}
